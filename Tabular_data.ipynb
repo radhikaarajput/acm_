{
 "cells": [
  {
   "cell_type": "markdown",
   "metadata": {},
   "source": [
    "# Tabular data Pre-processing  "
   ]
  },
  {
   "cell_type": "markdown",
   "metadata": {},
   "source": [
    "- Structured data - Tabular data\n",
    "- Semistructured data - Json data\n",
    "- Unstructured data - Text file"
   ]
  },
  {
   "cell_type": "markdown",
   "metadata": {},
   "source": [
    "## Data reading and setup"
   ]
  },
  {
   "cell_type": "code",
   "execution_count": 58,
   "metadata": {},
   "outputs": [],
   "source": [
    "import numpy as np\n",
    "import pandas as pd\n",
    "from sklearn.preprocessing import LabelEncoder,StandardScaler"
   ]
  },
  {
   "cell_type": "code",
   "execution_count": 59,
   "metadata": {},
   "outputs": [],
   "source": [
    "df_drones=pd.read_csv('data/drones.csv')\n",
    "df_services=pd.read_csv('data/services.csv')\n",
    "df_actuals=pd.read_csv('data/actuals.csv')\n",
    "df_schedules=pd.read_csv('data/schedules.csv')\n",
    "df_stations=pd.read_csv('data/stations.csv')"
   ]
  },
  {
   "cell_type": "code",
   "execution_count": 60,
   "metadata": {},
   "outputs": [
    {
     "data": {
      "text/html": [
       "<div>\n",
       "<style scoped>\n",
       "    .dataframe tbody tr th:only-of-type {\n",
       "        vertical-align: middle;\n",
       "    }\n",
       "\n",
       "    .dataframe tbody tr th {\n",
       "        vertical-align: top;\n",
       "    }\n",
       "\n",
       "    .dataframe thead th {\n",
       "        text-align: right;\n",
       "    }\n",
       "</style>\n",
       "<table border=\"1\" class=\"dataframe\">\n",
       "  <thead>\n",
       "    <tr style=\"text-align: right;\">\n",
       "      <th></th>\n",
       "      <th>forecast_windspeed_kts</th>\n",
       "      <th>scheduled_arrival_datetime</th>\n",
       "      <th>scheduled_departure_datetime</th>\n",
       "      <th>service_id</th>\n",
       "      <th>station</th>\n",
       "      <th>station_call_id</th>\n",
       "    </tr>\n",
       "  </thead>\n",
       "  <tbody>\n",
       "    <tr>\n",
       "      <th>0</th>\n",
       "      <td>4</td>\n",
       "      <td>2050-07-01 05:06</td>\n",
       "      <td>2050-07-01 06:00</td>\n",
       "      <td>JP_0</td>\n",
       "      <td>Iwade</td>\n",
       "      <td>JP_0_205007010506</td>\n",
       "    </tr>\n",
       "    <tr>\n",
       "      <th>1</th>\n",
       "      <td>7</td>\n",
       "      <td>2050-07-01 06:19</td>\n",
       "      <td>2050-07-01 07:00</td>\n",
       "      <td>JP_0</td>\n",
       "      <td>Komono</td>\n",
       "      <td>JP_0_205007010619</td>\n",
       "    </tr>\n",
       "    <tr>\n",
       "      <th>2</th>\n",
       "      <td>6</td>\n",
       "      <td>2050-07-01 07:09</td>\n",
       "      <td>2050-07-01 08:00</td>\n",
       "      <td>JP_0</td>\n",
       "      <td>Toba</td>\n",
       "      <td>JP_0_205007010709</td>\n",
       "    </tr>\n",
       "    <tr>\n",
       "      <th>3</th>\n",
       "      <td>8</td>\n",
       "      <td>2050-07-01 08:21</td>\n",
       "      <td>2050-07-01 09:00</td>\n",
       "      <td>JP_0</td>\n",
       "      <td>Gero</td>\n",
       "      <td>JP_0_205007010821</td>\n",
       "    </tr>\n",
       "    <tr>\n",
       "      <th>4</th>\n",
       "      <td>13</td>\n",
       "      <td>2050-07-01 09:09</td>\n",
       "      <td>2050-07-01 10:00</td>\n",
       "      <td>JP_0</td>\n",
       "      <td>Ina</td>\n",
       "      <td>JP_0_205007010909</td>\n",
       "    </tr>\n",
       "  </tbody>\n",
       "</table>\n",
       "</div>"
      ],
      "text/plain": [
       "   forecast_windspeed_kts scheduled_arrival_datetime  \\\n",
       "0                       4           2050-07-01 05:06   \n",
       "1                       7           2050-07-01 06:19   \n",
       "2                       6           2050-07-01 07:09   \n",
       "3                       8           2050-07-01 08:21   \n",
       "4                      13           2050-07-01 09:09   \n",
       "\n",
       "  scheduled_departure_datetime service_id station    station_call_id  \n",
       "0             2050-07-01 06:00       JP_0   Iwade  JP_0_205007010506  \n",
       "1             2050-07-01 07:00       JP_0  Komono  JP_0_205007010619  \n",
       "2             2050-07-01 08:00       JP_0    Toba  JP_0_205007010709  \n",
       "3             2050-07-01 09:00       JP_0    Gero  JP_0_205007010821  \n",
       "4             2050-07-01 10:00       JP_0     Ina  JP_0_205007010909  "
      ]
     },
     "execution_count": 60,
     "metadata": {},
     "output_type": "execute_result"
    }
   ],
   "source": [
    "df_schedules.head()"
   ]
  },
  {
   "cell_type": "code",
   "execution_count": 61,
   "metadata": {},
   "outputs": [
    {
     "data": {
      "text/html": [
       "<div>\n",
       "<style scoped>\n",
       "    .dataframe tbody tr th:only-of-type {\n",
       "        vertical-align: middle;\n",
       "    }\n",
       "\n",
       "    .dataframe tbody tr th {\n",
       "        vertical-align: top;\n",
       "    }\n",
       "\n",
       "    .dataframe thead th {\n",
       "        text-align: right;\n",
       "    }\n",
       "</style>\n",
       "<table border=\"1\" class=\"dataframe\">\n",
       "  <thead>\n",
       "    <tr style=\"text-align: right;\">\n",
       "      <th></th>\n",
       "      <th>actual_arrival_datetime</th>\n",
       "      <th>actual_departure_datetime</th>\n",
       "      <th>actual_fuel_consumption_gm_per_mile</th>\n",
       "      <th>actual_windspeed_kts</th>\n",
       "      <th>arrival_delay_seconds</th>\n",
       "      <th>service_id</th>\n",
       "      <th>station</th>\n",
       "      <th>station_call_id</th>\n",
       "    </tr>\n",
       "  </thead>\n",
       "  <tbody>\n",
       "    <tr>\n",
       "      <th>0</th>\n",
       "      <td>2050-07-01 05:06</td>\n",
       "      <td>2050-07-01 06:00</td>\n",
       "      <td>56.12</td>\n",
       "      <td>0</td>\n",
       "      <td>2</td>\n",
       "      <td>JP_0</td>\n",
       "      <td>Iwade</td>\n",
       "      <td>JP_0_205007010506</td>\n",
       "    </tr>\n",
       "    <tr>\n",
       "      <th>1</th>\n",
       "      <td>2050-07-01 06:19</td>\n",
       "      <td>2050-07-01 07:00</td>\n",
       "      <td>168.31</td>\n",
       "      <td>0</td>\n",
       "      <td>5</td>\n",
       "      <td>JP_0</td>\n",
       "      <td>Komono</td>\n",
       "      <td>JP_0_205007010619</td>\n",
       "    </tr>\n",
       "    <tr>\n",
       "      <th>2</th>\n",
       "      <td>2050-07-01 07:09</td>\n",
       "      <td>2050-07-01 08:00</td>\n",
       "      <td>77.31</td>\n",
       "      <td>0</td>\n",
       "      <td>2</td>\n",
       "      <td>JP_0</td>\n",
       "      <td>Toba</td>\n",
       "      <td>JP_0_205007010709</td>\n",
       "    </tr>\n",
       "    <tr>\n",
       "      <th>3</th>\n",
       "      <td>2050-07-01 08:21</td>\n",
       "      <td>2050-07-01 09:00</td>\n",
       "      <td>164.24</td>\n",
       "      <td>0</td>\n",
       "      <td>6</td>\n",
       "      <td>JP_0</td>\n",
       "      <td>Gero</td>\n",
       "      <td>JP_0_205007010821</td>\n",
       "    </tr>\n",
       "    <tr>\n",
       "      <th>4</th>\n",
       "      <td>2050-07-01 09:09</td>\n",
       "      <td>2050-07-01 10:00</td>\n",
       "      <td>69.68</td>\n",
       "      <td>0</td>\n",
       "      <td>3</td>\n",
       "      <td>JP_0</td>\n",
       "      <td>Ina</td>\n",
       "      <td>JP_0_205007010909</td>\n",
       "    </tr>\n",
       "  </tbody>\n",
       "</table>\n",
       "</div>"
      ],
      "text/plain": [
       "  actual_arrival_datetime actual_departure_datetime  \\\n",
       "0        2050-07-01 05:06          2050-07-01 06:00   \n",
       "1        2050-07-01 06:19          2050-07-01 07:00   \n",
       "2        2050-07-01 07:09          2050-07-01 08:00   \n",
       "3        2050-07-01 08:21          2050-07-01 09:00   \n",
       "4        2050-07-01 09:09          2050-07-01 10:00   \n",
       "\n",
       "   actual_fuel_consumption_gm_per_mile  actual_windspeed_kts  \\\n",
       "0                                56.12                     0   \n",
       "1                               168.31                     0   \n",
       "2                                77.31                     0   \n",
       "3                               164.24                     0   \n",
       "4                                69.68                     0   \n",
       "\n",
       "   arrival_delay_seconds service_id station    station_call_id  \n",
       "0                      2       JP_0   Iwade  JP_0_205007010506  \n",
       "1                      5       JP_0  Komono  JP_0_205007010619  \n",
       "2                      2       JP_0    Toba  JP_0_205007010709  \n",
       "3                      6       JP_0    Gero  JP_0_205007010821  \n",
       "4                      3       JP_0     Ina  JP_0_205007010909  "
      ]
     },
     "execution_count": 61,
     "metadata": {},
     "output_type": "execute_result"
    }
   ],
   "source": [
    "df_actuals.head()"
   ]
  },
  {
   "cell_type": "code",
   "execution_count": 62,
   "metadata": {},
   "outputs": [
    {
     "data": {
      "text/html": [
       "<div>\n",
       "<style scoped>\n",
       "    .dataframe tbody tr th:only-of-type {\n",
       "        vertical-align: middle;\n",
       "    }\n",
       "\n",
       "    .dataframe tbody tr th {\n",
       "        vertical-align: top;\n",
       "    }\n",
       "\n",
       "    .dataframe thead th {\n",
       "        text-align: right;\n",
       "    }\n",
       "</style>\n",
       "<table border=\"1\" class=\"dataframe\">\n",
       "  <thead>\n",
       "    <tr style=\"text-align: right;\">\n",
       "      <th></th>\n",
       "      <th>capacity_persons</th>\n",
       "      <th>drone_id</th>\n",
       "      <th>fuel_consumption_gm_per_mile</th>\n",
       "      <th>manufacturer</th>\n",
       "      <th>max_altitude_ft</th>\n",
       "      <th>max_capacity_fuel_gm</th>\n",
       "      <th>min_capacity_fuel_gm</th>\n",
       "      <th>operating_speed_mph</th>\n",
       "      <th>optimal_altitude_ft</th>\n",
       "      <th>service_id</th>\n",
       "    </tr>\n",
       "  </thead>\n",
       "  <tbody>\n",
       "    <tr>\n",
       "      <th>0</th>\n",
       "      <td>114</td>\n",
       "      <td>971-LGB</td>\n",
       "      <td>1.87</td>\n",
       "      <td>Sharp Ltd</td>\n",
       "      <td>8000</td>\n",
       "      <td>3740</td>\n",
       "      <td>1</td>\n",
       "      <td>266</td>\n",
       "      <td>1000</td>\n",
       "      <td>JP_0</td>\n",
       "    </tr>\n",
       "    <tr>\n",
       "      <th>1</th>\n",
       "      <td>438</td>\n",
       "      <td>ZTG 357</td>\n",
       "      <td>5.10</td>\n",
       "      <td>Freeman-Garrison</td>\n",
       "      <td>7000</td>\n",
       "      <td>10200</td>\n",
       "      <td>1</td>\n",
       "      <td>216</td>\n",
       "      <td>1000</td>\n",
       "      <td>DZ_0</td>\n",
       "    </tr>\n",
       "    <tr>\n",
       "      <th>2</th>\n",
       "      <td>493</td>\n",
       "      <td>I55 1AC</td>\n",
       "      <td>0.79</td>\n",
       "      <td>Perez Inc</td>\n",
       "      <td>4000</td>\n",
       "      <td>1580</td>\n",
       "      <td>1</td>\n",
       "      <td>149</td>\n",
       "      <td>2000</td>\n",
       "      <td>DE_1</td>\n",
       "    </tr>\n",
       "    <tr>\n",
       "      <th>3</th>\n",
       "      <td>154</td>\n",
       "      <td>XUW-2971</td>\n",
       "      <td>2.84</td>\n",
       "      <td>Sharp Ltd</td>\n",
       "      <td>9000</td>\n",
       "      <td>2840</td>\n",
       "      <td>1</td>\n",
       "      <td>291</td>\n",
       "      <td>1000</td>\n",
       "      <td>US_0</td>\n",
       "    </tr>\n",
       "    <tr>\n",
       "      <th>4</th>\n",
       "      <td>59</td>\n",
       "      <td>564AL</td>\n",
       "      <td>0.76</td>\n",
       "      <td>Greene-Beasley</td>\n",
       "      <td>10000</td>\n",
       "      <td>1520</td>\n",
       "      <td>1</td>\n",
       "      <td>188</td>\n",
       "      <td>1000</td>\n",
       "      <td>JP_2</td>\n",
       "    </tr>\n",
       "  </tbody>\n",
       "</table>\n",
       "</div>"
      ],
      "text/plain": [
       "   capacity_persons  drone_id  fuel_consumption_gm_per_mile      manufacturer  \\\n",
       "0               114   971-LGB                          1.87         Sharp Ltd   \n",
       "1               438   ZTG 357                          5.10  Freeman-Garrison   \n",
       "2               493   I55 1AC                          0.79         Perez Inc   \n",
       "3               154  XUW-2971                          2.84         Sharp Ltd   \n",
       "4                59     564AL                          0.76    Greene-Beasley   \n",
       "\n",
       "   max_altitude_ft  max_capacity_fuel_gm  min_capacity_fuel_gm  \\\n",
       "0             8000                  3740                     1   \n",
       "1             7000                 10200                     1   \n",
       "2             4000                  1580                     1   \n",
       "3             9000                  2840                     1   \n",
       "4            10000                  1520                     1   \n",
       "\n",
       "   operating_speed_mph  optimal_altitude_ft service_id  \n",
       "0                  266                 1000       JP_0  \n",
       "1                  216                 1000       DZ_0  \n",
       "2                  149                 2000       DE_1  \n",
       "3                  291                 1000       US_0  \n",
       "4                  188                 1000       JP_2  "
      ]
     },
     "execution_count": 62,
     "metadata": {},
     "output_type": "execute_result"
    }
   ],
   "source": [
    "df_drones.head()"
   ]
  },
  {
   "cell_type": "code",
   "execution_count": 63,
   "metadata": {},
   "outputs": [],
   "source": [
    "df_data = df_schedules.merge(df_drones,on='service_id')"
   ]
  },
  {
   "cell_type": "code",
   "execution_count": 64,
   "metadata": {},
   "outputs": [
    {
     "data": {
      "text/html": [
       "<div>\n",
       "<style scoped>\n",
       "    .dataframe tbody tr th:only-of-type {\n",
       "        vertical-align: middle;\n",
       "    }\n",
       "\n",
       "    .dataframe tbody tr th {\n",
       "        vertical-align: top;\n",
       "    }\n",
       "\n",
       "    .dataframe thead th {\n",
       "        text-align: right;\n",
       "    }\n",
       "</style>\n",
       "<table border=\"1\" class=\"dataframe\">\n",
       "  <thead>\n",
       "    <tr style=\"text-align: right;\">\n",
       "      <th></th>\n",
       "      <th>forecast_windspeed_kts</th>\n",
       "      <th>scheduled_arrival_datetime</th>\n",
       "      <th>scheduled_departure_datetime</th>\n",
       "      <th>service_id</th>\n",
       "      <th>station</th>\n",
       "      <th>station_call_id</th>\n",
       "      <th>capacity_persons</th>\n",
       "      <th>drone_id</th>\n",
       "      <th>fuel_consumption_gm_per_mile</th>\n",
       "      <th>manufacturer</th>\n",
       "      <th>max_altitude_ft</th>\n",
       "      <th>max_capacity_fuel_gm</th>\n",
       "      <th>min_capacity_fuel_gm</th>\n",
       "      <th>operating_speed_mph</th>\n",
       "      <th>optimal_altitude_ft</th>\n",
       "    </tr>\n",
       "  </thead>\n",
       "  <tbody>\n",
       "    <tr>\n",
       "      <th>0</th>\n",
       "      <td>4</td>\n",
       "      <td>2050-07-01 05:06</td>\n",
       "      <td>2050-07-01 06:00</td>\n",
       "      <td>JP_0</td>\n",
       "      <td>Iwade</td>\n",
       "      <td>JP_0_205007010506</td>\n",
       "      <td>114</td>\n",
       "      <td>971-LGB</td>\n",
       "      <td>1.87</td>\n",
       "      <td>Sharp Ltd</td>\n",
       "      <td>8000</td>\n",
       "      <td>3740</td>\n",
       "      <td>1</td>\n",
       "      <td>266</td>\n",
       "      <td>1000</td>\n",
       "    </tr>\n",
       "    <tr>\n",
       "      <th>1</th>\n",
       "      <td>7</td>\n",
       "      <td>2050-07-01 06:19</td>\n",
       "      <td>2050-07-01 07:00</td>\n",
       "      <td>JP_0</td>\n",
       "      <td>Komono</td>\n",
       "      <td>JP_0_205007010619</td>\n",
       "      <td>114</td>\n",
       "      <td>971-LGB</td>\n",
       "      <td>1.87</td>\n",
       "      <td>Sharp Ltd</td>\n",
       "      <td>8000</td>\n",
       "      <td>3740</td>\n",
       "      <td>1</td>\n",
       "      <td>266</td>\n",
       "      <td>1000</td>\n",
       "    </tr>\n",
       "    <tr>\n",
       "      <th>2</th>\n",
       "      <td>6</td>\n",
       "      <td>2050-07-01 07:09</td>\n",
       "      <td>2050-07-01 08:00</td>\n",
       "      <td>JP_0</td>\n",
       "      <td>Toba</td>\n",
       "      <td>JP_0_205007010709</td>\n",
       "      <td>114</td>\n",
       "      <td>971-LGB</td>\n",
       "      <td>1.87</td>\n",
       "      <td>Sharp Ltd</td>\n",
       "      <td>8000</td>\n",
       "      <td>3740</td>\n",
       "      <td>1</td>\n",
       "      <td>266</td>\n",
       "      <td>1000</td>\n",
       "    </tr>\n",
       "    <tr>\n",
       "      <th>3</th>\n",
       "      <td>8</td>\n",
       "      <td>2050-07-01 08:21</td>\n",
       "      <td>2050-07-01 09:00</td>\n",
       "      <td>JP_0</td>\n",
       "      <td>Gero</td>\n",
       "      <td>JP_0_205007010821</td>\n",
       "      <td>114</td>\n",
       "      <td>971-LGB</td>\n",
       "      <td>1.87</td>\n",
       "      <td>Sharp Ltd</td>\n",
       "      <td>8000</td>\n",
       "      <td>3740</td>\n",
       "      <td>1</td>\n",
       "      <td>266</td>\n",
       "      <td>1000</td>\n",
       "    </tr>\n",
       "    <tr>\n",
       "      <th>4</th>\n",
       "      <td>13</td>\n",
       "      <td>2050-07-01 09:09</td>\n",
       "      <td>2050-07-01 10:00</td>\n",
       "      <td>JP_0</td>\n",
       "      <td>Ina</td>\n",
       "      <td>JP_0_205007010909</td>\n",
       "      <td>114</td>\n",
       "      <td>971-LGB</td>\n",
       "      <td>1.87</td>\n",
       "      <td>Sharp Ltd</td>\n",
       "      <td>8000</td>\n",
       "      <td>3740</td>\n",
       "      <td>1</td>\n",
       "      <td>266</td>\n",
       "      <td>1000</td>\n",
       "    </tr>\n",
       "  </tbody>\n",
       "</table>\n",
       "</div>"
      ],
      "text/plain": [
       "   forecast_windspeed_kts scheduled_arrival_datetime  \\\n",
       "0                       4           2050-07-01 05:06   \n",
       "1                       7           2050-07-01 06:19   \n",
       "2                       6           2050-07-01 07:09   \n",
       "3                       8           2050-07-01 08:21   \n",
       "4                      13           2050-07-01 09:09   \n",
       "\n",
       "  scheduled_departure_datetime service_id station    station_call_id  \\\n",
       "0             2050-07-01 06:00       JP_0   Iwade  JP_0_205007010506   \n",
       "1             2050-07-01 07:00       JP_0  Komono  JP_0_205007010619   \n",
       "2             2050-07-01 08:00       JP_0    Toba  JP_0_205007010709   \n",
       "3             2050-07-01 09:00       JP_0    Gero  JP_0_205007010821   \n",
       "4             2050-07-01 10:00       JP_0     Ina  JP_0_205007010909   \n",
       "\n",
       "   capacity_persons drone_id  fuel_consumption_gm_per_mile manufacturer  \\\n",
       "0               114  971-LGB                          1.87    Sharp Ltd   \n",
       "1               114  971-LGB                          1.87    Sharp Ltd   \n",
       "2               114  971-LGB                          1.87    Sharp Ltd   \n",
       "3               114  971-LGB                          1.87    Sharp Ltd   \n",
       "4               114  971-LGB                          1.87    Sharp Ltd   \n",
       "\n",
       "   max_altitude_ft  max_capacity_fuel_gm  min_capacity_fuel_gm  \\\n",
       "0             8000                  3740                     1   \n",
       "1             8000                  3740                     1   \n",
       "2             8000                  3740                     1   \n",
       "3             8000                  3740                     1   \n",
       "4             8000                  3740                     1   \n",
       "\n",
       "   operating_speed_mph  optimal_altitude_ft  \n",
       "0                  266                 1000  \n",
       "1                  266                 1000  \n",
       "2                  266                 1000  \n",
       "3                  266                 1000  \n",
       "4                  266                 1000  "
      ]
     },
     "execution_count": 64,
     "metadata": {},
     "output_type": "execute_result"
    }
   ],
   "source": [
    "df_data.head()"
   ]
  },
  {
   "cell_type": "code",
   "execution_count": 65,
   "metadata": {},
   "outputs": [],
   "source": [
    "clm_to_drop = ['scheduled_arrival_datetime','scheduled_departure_datetime','service_id','station','manufacturer','drone_id']"
   ]
  },
  {
   "cell_type": "code",
   "execution_count": 66,
   "metadata": {},
   "outputs": [],
   "source": [
    "df_data.drop(columns=clm_to_drop,inplace=True)"
   ]
  },
  {
   "cell_type": "code",
   "execution_count": 67,
   "metadata": {},
   "outputs": [
    {
     "data": {
      "text/html": [
       "<div>\n",
       "<style scoped>\n",
       "    .dataframe tbody tr th:only-of-type {\n",
       "        vertical-align: middle;\n",
       "    }\n",
       "\n",
       "    .dataframe tbody tr th {\n",
       "        vertical-align: top;\n",
       "    }\n",
       "\n",
       "    .dataframe thead th {\n",
       "        text-align: right;\n",
       "    }\n",
       "</style>\n",
       "<table border=\"1\" class=\"dataframe\">\n",
       "  <thead>\n",
       "    <tr style=\"text-align: right;\">\n",
       "      <th></th>\n",
       "      <th>forecast_windspeed_kts</th>\n",
       "      <th>station_call_id</th>\n",
       "      <th>capacity_persons</th>\n",
       "      <th>fuel_consumption_gm_per_mile</th>\n",
       "      <th>max_altitude_ft</th>\n",
       "      <th>max_capacity_fuel_gm</th>\n",
       "      <th>min_capacity_fuel_gm</th>\n",
       "      <th>operating_speed_mph</th>\n",
       "      <th>optimal_altitude_ft</th>\n",
       "    </tr>\n",
       "  </thead>\n",
       "  <tbody>\n",
       "    <tr>\n",
       "      <th>0</th>\n",
       "      <td>4</td>\n",
       "      <td>JP_0_205007010506</td>\n",
       "      <td>114</td>\n",
       "      <td>1.87</td>\n",
       "      <td>8000</td>\n",
       "      <td>3740</td>\n",
       "      <td>1</td>\n",
       "      <td>266</td>\n",
       "      <td>1000</td>\n",
       "    </tr>\n",
       "    <tr>\n",
       "      <th>1</th>\n",
       "      <td>7</td>\n",
       "      <td>JP_0_205007010619</td>\n",
       "      <td>114</td>\n",
       "      <td>1.87</td>\n",
       "      <td>8000</td>\n",
       "      <td>3740</td>\n",
       "      <td>1</td>\n",
       "      <td>266</td>\n",
       "      <td>1000</td>\n",
       "    </tr>\n",
       "    <tr>\n",
       "      <th>2</th>\n",
       "      <td>6</td>\n",
       "      <td>JP_0_205007010709</td>\n",
       "      <td>114</td>\n",
       "      <td>1.87</td>\n",
       "      <td>8000</td>\n",
       "      <td>3740</td>\n",
       "      <td>1</td>\n",
       "      <td>266</td>\n",
       "      <td>1000</td>\n",
       "    </tr>\n",
       "    <tr>\n",
       "      <th>3</th>\n",
       "      <td>8</td>\n",
       "      <td>JP_0_205007010821</td>\n",
       "      <td>114</td>\n",
       "      <td>1.87</td>\n",
       "      <td>8000</td>\n",
       "      <td>3740</td>\n",
       "      <td>1</td>\n",
       "      <td>266</td>\n",
       "      <td>1000</td>\n",
       "    </tr>\n",
       "    <tr>\n",
       "      <th>4</th>\n",
       "      <td>13</td>\n",
       "      <td>JP_0_205007010909</td>\n",
       "      <td>114</td>\n",
       "      <td>1.87</td>\n",
       "      <td>8000</td>\n",
       "      <td>3740</td>\n",
       "      <td>1</td>\n",
       "      <td>266</td>\n",
       "      <td>1000</td>\n",
       "    </tr>\n",
       "    <tr>\n",
       "      <th>...</th>\n",
       "      <td>...</td>\n",
       "      <td>...</td>\n",
       "      <td>...</td>\n",
       "      <td>...</td>\n",
       "      <td>...</td>\n",
       "      <td>...</td>\n",
       "      <td>...</td>\n",
       "      <td>...</td>\n",
       "      <td>...</td>\n",
       "    </tr>\n",
       "    <tr>\n",
       "      <th>12489</th>\n",
       "      <td>1</td>\n",
       "      <td>World_3_205007300754</td>\n",
       "      <td>1066</td>\n",
       "      <td>17.86</td>\n",
       "      <td>4000</td>\n",
       "      <td>17860</td>\n",
       "      <td>1</td>\n",
       "      <td>620</td>\n",
       "      <td>1000</td>\n",
       "    </tr>\n",
       "    <tr>\n",
       "      <th>12490</th>\n",
       "      <td>1</td>\n",
       "      <td>World_3_205007301936</td>\n",
       "      <td>1066</td>\n",
       "      <td>17.86</td>\n",
       "      <td>4000</td>\n",
       "      <td>17860</td>\n",
       "      <td>1</td>\n",
       "      <td>620</td>\n",
       "      <td>1000</td>\n",
       "    </tr>\n",
       "    <tr>\n",
       "      <th>12491</th>\n",
       "      <td>0</td>\n",
       "      <td>World_3_205007310454</td>\n",
       "      <td>1066</td>\n",
       "      <td>17.86</td>\n",
       "      <td>4000</td>\n",
       "      <td>17860</td>\n",
       "      <td>1</td>\n",
       "      <td>620</td>\n",
       "      <td>1000</td>\n",
       "    </tr>\n",
       "    <tr>\n",
       "      <th>12492</th>\n",
       "      <td>2</td>\n",
       "      <td>World_3_205007311854</td>\n",
       "      <td>1066</td>\n",
       "      <td>17.86</td>\n",
       "      <td>4000</td>\n",
       "      <td>17860</td>\n",
       "      <td>1</td>\n",
       "      <td>620</td>\n",
       "      <td>1000</td>\n",
       "    </tr>\n",
       "    <tr>\n",
       "      <th>12493</th>\n",
       "      <td>6</td>\n",
       "      <td>World_3_205008010636</td>\n",
       "      <td>1066</td>\n",
       "      <td>17.86</td>\n",
       "      <td>4000</td>\n",
       "      <td>17860</td>\n",
       "      <td>1</td>\n",
       "      <td>620</td>\n",
       "      <td>1000</td>\n",
       "    </tr>\n",
       "  </tbody>\n",
       "</table>\n",
       "<p>12494 rows × 9 columns</p>\n",
       "</div>"
      ],
      "text/plain": [
       "       forecast_windspeed_kts       station_call_id  capacity_persons  \\\n",
       "0                           4     JP_0_205007010506               114   \n",
       "1                           7     JP_0_205007010619               114   \n",
       "2                           6     JP_0_205007010709               114   \n",
       "3                           8     JP_0_205007010821               114   \n",
       "4                          13     JP_0_205007010909               114   \n",
       "...                       ...                   ...               ...   \n",
       "12489                       1  World_3_205007300754              1066   \n",
       "12490                       1  World_3_205007301936              1066   \n",
       "12491                       0  World_3_205007310454              1066   \n",
       "12492                       2  World_3_205007311854              1066   \n",
       "12493                       6  World_3_205008010636              1066   \n",
       "\n",
       "       fuel_consumption_gm_per_mile  max_altitude_ft  max_capacity_fuel_gm  \\\n",
       "0                              1.87             8000                  3740   \n",
       "1                              1.87             8000                  3740   \n",
       "2                              1.87             8000                  3740   \n",
       "3                              1.87             8000                  3740   \n",
       "4                              1.87             8000                  3740   \n",
       "...                             ...              ...                   ...   \n",
       "12489                         17.86             4000                 17860   \n",
       "12490                         17.86             4000                 17860   \n",
       "12491                         17.86             4000                 17860   \n",
       "12492                         17.86             4000                 17860   \n",
       "12493                         17.86             4000                 17860   \n",
       "\n",
       "       min_capacity_fuel_gm  operating_speed_mph  optimal_altitude_ft  \n",
       "0                         1                  266                 1000  \n",
       "1                         1                  266                 1000  \n",
       "2                         1                  266                 1000  \n",
       "3                         1                  266                 1000  \n",
       "4                         1                  266                 1000  \n",
       "...                     ...                  ...                  ...  \n",
       "12489                     1                  620                 1000  \n",
       "12490                     1                  620                 1000  \n",
       "12491                     1                  620                 1000  \n",
       "12492                     1                  620                 1000  \n",
       "12493                     1                  620                 1000  \n",
       "\n",
       "[12494 rows x 9 columns]"
      ]
     },
     "execution_count": 67,
     "metadata": {},
     "output_type": "execute_result"
    }
   ],
   "source": [
    "df_data"
   ]
  },
  {
   "cell_type": "code",
   "execution_count": 68,
   "metadata": {},
   "outputs": [],
   "source": [
    "traning_data = df_data.merge(df_actuals[['arrival_delay_seconds','station_call_id']],on='station_call_id')"
   ]
  },
  {
   "cell_type": "code",
   "execution_count": 69,
   "metadata": {},
   "outputs": [],
   "source": [
    "test_data = df_data[~df_data['station_call_id'].isin(traning_data['station_call_id'].to_list())]"
   ]
  },
  {
   "cell_type": "markdown",
   "metadata": {},
   "source": [
    "## Normalization"
   ]
  },
  {
   "cell_type": "code",
   "execution_count": 70,
   "metadata": {},
   "outputs": [
    {
     "name": "stderr",
     "output_type": "stream",
     "text": [
      "/home/hitkul/anaconda3/envs/IGDTU_summer/lib/python3.8/site-packages/pandas/core/frame.py:3990: SettingWithCopyWarning: \n",
      "A value is trying to be set on a copy of a slice from a DataFrame\n",
      "\n",
      "See the caveats in the documentation: https://pandas.pydata.org/pandas-docs/stable/user_guide/indexing.html#returning-a-view-versus-a-copy\n",
      "  return super().drop(\n"
     ]
    }
   ],
   "source": [
    "traning_data.drop(columns=['station_call_id'],inplace=True)\n",
    "test_data.drop(columns=['station_call_id'],inplace=True)"
   ]
  },
  {
   "cell_type": "code",
   "execution_count": 71,
   "metadata": {},
   "outputs": [],
   "source": [
    "features = list(traning_data.columns)\n",
    "features.remove('arrival_delay_seconds')"
   ]
  },
  {
   "cell_type": "code",
   "execution_count": 72,
   "metadata": {},
   "outputs": [],
   "source": [
    "trainX,trainY = traning_data[features].values,traning_data['arrival_delay_seconds'].values\n",
    "testX = test_data.values"
   ]
  },
  {
   "cell_type": "code",
   "execution_count": 73,
   "metadata": {},
   "outputs": [
    {
     "data": {
      "text/plain": [
       "((9924, 8), (9924,), (2570, 8))"
      ]
     },
     "execution_count": 73,
     "metadata": {},
     "output_type": "execute_result"
    }
   ],
   "source": [
    "trainX.shape,trainY.shape,testX.shape"
   ]
  },
  {
   "cell_type": "code",
   "execution_count": 74,
   "metadata": {},
   "outputs": [],
   "source": [
    "scaler = StandardScaler()"
   ]
  },
  {
   "cell_type": "code",
   "execution_count": 75,
   "metadata": {},
   "outputs": [
    {
     "data": {
      "text/plain": [
       "StandardScaler()"
      ]
     },
     "execution_count": 75,
     "metadata": {},
     "output_type": "execute_result"
    }
   ],
   "source": [
    "scaler.fit(trainX)"
   ]
  },
  {
   "cell_type": "code",
   "execution_count": 76,
   "metadata": {},
   "outputs": [],
   "source": [
    "trainX_norm = scaler.transform(trainX)\n",
    "testX_norm = scaler.transform(testX)"
   ]
  },
  {
   "cell_type": "code",
   "execution_count": 81,
   "metadata": {},
   "outputs": [
    {
     "data": {
      "text/plain": [
       "(28280.0, 0.0, 2008.0340089681579)"
      ]
     },
     "execution_count": 81,
     "metadata": {},
     "output_type": "execute_result"
    }
   ],
   "source": [
    "trainX.max(),trainX.min(),trainX.mean()"
   ]
  },
  {
   "cell_type": "code",
   "execution_count": 82,
   "metadata": {},
   "outputs": [
    {
     "data": {
      "text/plain": [
       "(6.617838095190163, -1.4182271125805397, -1.0023779021202541e-17)"
      ]
     },
     "execution_count": 82,
     "metadata": {},
     "output_type": "execute_result"
    }
   ],
   "source": [
    "trainX_norm.max(),trainX_norm.min(),trainX_norm.mean()"
   ]
  },
  {
   "cell_type": "markdown",
   "metadata": {},
   "source": [
    "## Label Encoding"
   ]
  },
  {
   "cell_type": "code",
   "execution_count": 83,
   "metadata": {},
   "outputs": [],
   "source": [
    "df=pd.read_csv(\"data/Salary.csv\")"
   ]
  },
  {
   "cell_type": "code",
   "execution_count": 84,
   "metadata": {},
   "outputs": [
    {
     "data": {
      "text/html": [
       "<div>\n",
       "<style scoped>\n",
       "    .dataframe tbody tr th:only-of-type {\n",
       "        vertical-align: middle;\n",
       "    }\n",
       "\n",
       "    .dataframe tbody tr th {\n",
       "        vertical-align: top;\n",
       "    }\n",
       "\n",
       "    .dataframe thead th {\n",
       "        text-align: right;\n",
       "    }\n",
       "</style>\n",
       "<table border=\"1\" class=\"dataframe\">\n",
       "  <thead>\n",
       "    <tr style=\"text-align: right;\">\n",
       "      <th></th>\n",
       "      <th>Country</th>\n",
       "      <th>Age</th>\n",
       "      <th>Salary</th>\n",
       "    </tr>\n",
       "  </thead>\n",
       "  <tbody>\n",
       "    <tr>\n",
       "      <th>0</th>\n",
       "      <td>India</td>\n",
       "      <td>44</td>\n",
       "      <td>72000</td>\n",
       "    </tr>\n",
       "    <tr>\n",
       "      <th>1</th>\n",
       "      <td>US</td>\n",
       "      <td>34</td>\n",
       "      <td>65000</td>\n",
       "    </tr>\n",
       "    <tr>\n",
       "      <th>2</th>\n",
       "      <td>Japan</td>\n",
       "      <td>46</td>\n",
       "      <td>98000</td>\n",
       "    </tr>\n",
       "    <tr>\n",
       "      <th>3</th>\n",
       "      <td>US</td>\n",
       "      <td>35</td>\n",
       "      <td>45000</td>\n",
       "    </tr>\n",
       "    <tr>\n",
       "      <th>4</th>\n",
       "      <td>Japan</td>\n",
       "      <td>23</td>\n",
       "      <td>34000</td>\n",
       "    </tr>\n",
       "  </tbody>\n",
       "</table>\n",
       "</div>"
      ],
      "text/plain": [
       "  Country  Age  Salary\n",
       "0   India   44   72000\n",
       "1      US   34   65000\n",
       "2   Japan   46   98000\n",
       "3      US   35   45000\n",
       "4   Japan   23   34000"
      ]
     },
     "execution_count": 84,
     "metadata": {},
     "output_type": "execute_result"
    }
   ],
   "source": [
    "df"
   ]
  },
  {
   "cell_type": "code",
   "execution_count": 85,
   "metadata": {},
   "outputs": [
    {
     "data": {
      "text/plain": [
       "<bound method DataFrame.info of   Country  Age  Salary\n",
       "0   India   44   72000\n",
       "1      US   34   65000\n",
       "2   Japan   46   98000\n",
       "3      US   35   45000\n",
       "4   Japan   23   34000>"
      ]
     },
     "execution_count": 85,
     "metadata": {},
     "output_type": "execute_result"
    }
   ],
   "source": [
    "df.info"
   ]
  },
  {
   "cell_type": "code",
   "execution_count": 89,
   "metadata": {},
   "outputs": [
    {
     "name": "stdout",
     "output_type": "stream",
     "text": [
      "   Country  Age  Salary\n",
      "0        0   44   72000\n",
      "1        2   34   65000\n",
      "2        1   46   98000\n",
      "3        2   35   45000\n",
      "4        1   23   34000\n"
     ]
    }
   ],
   "source": [
    "from sklearn import preprocessing\n",
    "label_encoder = preprocessing.LabelEncoder()\n",
    "df['Country']= label_encoder.fit_transform(df['Country']) \n",
    "print(df.head())"
   ]
  },
  {
   "cell_type": "code",
   "execution_count": 91,
   "metadata": {},
   "outputs": [
    {
     "data": {
      "text/html": [
       "<div>\n",
       "<style scoped>\n",
       "    .dataframe tbody tr th:only-of-type {\n",
       "        vertical-align: middle;\n",
       "    }\n",
       "\n",
       "    .dataframe tbody tr th {\n",
       "        vertical-align: top;\n",
       "    }\n",
       "\n",
       "    .dataframe thead th {\n",
       "        text-align: right;\n",
       "    }\n",
       "</style>\n",
       "<table border=\"1\" class=\"dataframe\">\n",
       "  <thead>\n",
       "    <tr style=\"text-align: right;\">\n",
       "      <th></th>\n",
       "      <th>Age</th>\n",
       "      <th>Salary</th>\n",
       "      <th>Country_0</th>\n",
       "      <th>Country_1</th>\n",
       "      <th>Country_2</th>\n",
       "    </tr>\n",
       "  </thead>\n",
       "  <tbody>\n",
       "    <tr>\n",
       "      <th>0</th>\n",
       "      <td>44</td>\n",
       "      <td>72000</td>\n",
       "      <td>1.0</td>\n",
       "      <td>0.0</td>\n",
       "      <td>0.0</td>\n",
       "    </tr>\n",
       "    <tr>\n",
       "      <th>1</th>\n",
       "      <td>34</td>\n",
       "      <td>65000</td>\n",
       "      <td>0.0</td>\n",
       "      <td>0.0</td>\n",
       "      <td>1.0</td>\n",
       "    </tr>\n",
       "    <tr>\n",
       "      <th>2</th>\n",
       "      <td>46</td>\n",
       "      <td>98000</td>\n",
       "      <td>0.0</td>\n",
       "      <td>1.0</td>\n",
       "      <td>0.0</td>\n",
       "    </tr>\n",
       "    <tr>\n",
       "      <th>3</th>\n",
       "      <td>35</td>\n",
       "      <td>45000</td>\n",
       "      <td>0.0</td>\n",
       "      <td>0.0</td>\n",
       "      <td>1.0</td>\n",
       "    </tr>\n",
       "    <tr>\n",
       "      <th>4</th>\n",
       "      <td>23</td>\n",
       "      <td>34000</td>\n",
       "      <td>0.0</td>\n",
       "      <td>1.0</td>\n",
       "      <td>0.0</td>\n",
       "    </tr>\n",
       "  </tbody>\n",
       "</table>\n",
       "</div>"
      ],
      "text/plain": [
       "   Age  Salary  Country_0  Country_1  Country_2\n",
       "0   44   72000        1.0        0.0        0.0\n",
       "1   34   65000        0.0        0.0        1.0\n",
       "2   46   98000        0.0        1.0        0.0\n",
       "3   35   45000        0.0        0.0        1.0\n",
       "4   23   34000        0.0        1.0        0.0"
      ]
     },
     "execution_count": 91,
     "metadata": {},
     "output_type": "execute_result"
    }
   ],
   "source": [
    "from sklearn.preprocessing import OneHotEncoder\n",
    "onehotencoder = OneHotEncoder()\n",
    "X = onehotencoder.fit_transform(df.Country.values.reshape(-1,1)).toarray()\n",
    "dfOneHot = pd.DataFrame(X, columns = [\"Country_\"+str(int(i)) for i in range(df.shape[1])]) \n",
    "df = pd.concat([df, dfOneHot], axis=1)\n",
    "df=df.drop(['Country'], axis=1) \n",
    "df.head()"
   ]
  },
  {
   "cell_type": "markdown",
   "metadata": {},
   "source": [
    "## Missing Values"
   ]
  },
  {
   "cell_type": "code",
   "execution_count": 92,
   "metadata": {},
   "outputs": [],
   "source": [
    "dataset = pd.read_csv('data/pima-indians-diabetes.csv', header=None)"
   ]
  },
  {
   "cell_type": "code",
   "execution_count": 93,
   "metadata": {},
   "outputs": [
    {
     "data": {
      "text/html": [
       "<div>\n",
       "<style scoped>\n",
       "    .dataframe tbody tr th:only-of-type {\n",
       "        vertical-align: middle;\n",
       "    }\n",
       "\n",
       "    .dataframe tbody tr th {\n",
       "        vertical-align: top;\n",
       "    }\n",
       "\n",
       "    .dataframe thead th {\n",
       "        text-align: right;\n",
       "    }\n",
       "</style>\n",
       "<table border=\"1\" class=\"dataframe\">\n",
       "  <thead>\n",
       "    <tr style=\"text-align: right;\">\n",
       "      <th></th>\n",
       "      <th>0</th>\n",
       "      <th>1</th>\n",
       "      <th>2</th>\n",
       "      <th>3</th>\n",
       "      <th>4</th>\n",
       "      <th>5</th>\n",
       "      <th>6</th>\n",
       "      <th>7</th>\n",
       "      <th>8</th>\n",
       "    </tr>\n",
       "  </thead>\n",
       "  <tbody>\n",
       "    <tr>\n",
       "      <th>count</th>\n",
       "      <td>768.000000</td>\n",
       "      <td>768.000000</td>\n",
       "      <td>768.000000</td>\n",
       "      <td>768.000000</td>\n",
       "      <td>768.000000</td>\n",
       "      <td>768.000000</td>\n",
       "      <td>768.000000</td>\n",
       "      <td>768.000000</td>\n",
       "      <td>768.000000</td>\n",
       "    </tr>\n",
       "    <tr>\n",
       "      <th>mean</th>\n",
       "      <td>3.845052</td>\n",
       "      <td>120.894531</td>\n",
       "      <td>69.105469</td>\n",
       "      <td>20.536458</td>\n",
       "      <td>79.799479</td>\n",
       "      <td>31.992578</td>\n",
       "      <td>0.471876</td>\n",
       "      <td>33.240885</td>\n",
       "      <td>0.348958</td>\n",
       "    </tr>\n",
       "    <tr>\n",
       "      <th>std</th>\n",
       "      <td>3.369578</td>\n",
       "      <td>31.972618</td>\n",
       "      <td>19.355807</td>\n",
       "      <td>15.952218</td>\n",
       "      <td>115.244002</td>\n",
       "      <td>7.884160</td>\n",
       "      <td>0.331329</td>\n",
       "      <td>11.760232</td>\n",
       "      <td>0.476951</td>\n",
       "    </tr>\n",
       "    <tr>\n",
       "      <th>min</th>\n",
       "      <td>0.000000</td>\n",
       "      <td>0.000000</td>\n",
       "      <td>0.000000</td>\n",
       "      <td>0.000000</td>\n",
       "      <td>0.000000</td>\n",
       "      <td>0.000000</td>\n",
       "      <td>0.078000</td>\n",
       "      <td>21.000000</td>\n",
       "      <td>0.000000</td>\n",
       "    </tr>\n",
       "    <tr>\n",
       "      <th>25%</th>\n",
       "      <td>1.000000</td>\n",
       "      <td>99.000000</td>\n",
       "      <td>62.000000</td>\n",
       "      <td>0.000000</td>\n",
       "      <td>0.000000</td>\n",
       "      <td>27.300000</td>\n",
       "      <td>0.243750</td>\n",
       "      <td>24.000000</td>\n",
       "      <td>0.000000</td>\n",
       "    </tr>\n",
       "    <tr>\n",
       "      <th>50%</th>\n",
       "      <td>3.000000</td>\n",
       "      <td>117.000000</td>\n",
       "      <td>72.000000</td>\n",
       "      <td>23.000000</td>\n",
       "      <td>30.500000</td>\n",
       "      <td>32.000000</td>\n",
       "      <td>0.372500</td>\n",
       "      <td>29.000000</td>\n",
       "      <td>0.000000</td>\n",
       "    </tr>\n",
       "    <tr>\n",
       "      <th>75%</th>\n",
       "      <td>6.000000</td>\n",
       "      <td>140.250000</td>\n",
       "      <td>80.000000</td>\n",
       "      <td>32.000000</td>\n",
       "      <td>127.250000</td>\n",
       "      <td>36.600000</td>\n",
       "      <td>0.626250</td>\n",
       "      <td>41.000000</td>\n",
       "      <td>1.000000</td>\n",
       "    </tr>\n",
       "    <tr>\n",
       "      <th>max</th>\n",
       "      <td>17.000000</td>\n",
       "      <td>199.000000</td>\n",
       "      <td>122.000000</td>\n",
       "      <td>99.000000</td>\n",
       "      <td>846.000000</td>\n",
       "      <td>67.100000</td>\n",
       "      <td>2.420000</td>\n",
       "      <td>81.000000</td>\n",
       "      <td>1.000000</td>\n",
       "    </tr>\n",
       "  </tbody>\n",
       "</table>\n",
       "</div>"
      ],
      "text/plain": [
       "                0           1           2           3           4           5  \\\n",
       "count  768.000000  768.000000  768.000000  768.000000  768.000000  768.000000   \n",
       "mean     3.845052  120.894531   69.105469   20.536458   79.799479   31.992578   \n",
       "std      3.369578   31.972618   19.355807   15.952218  115.244002    7.884160   \n",
       "min      0.000000    0.000000    0.000000    0.000000    0.000000    0.000000   \n",
       "25%      1.000000   99.000000   62.000000    0.000000    0.000000   27.300000   \n",
       "50%      3.000000  117.000000   72.000000   23.000000   30.500000   32.000000   \n",
       "75%      6.000000  140.250000   80.000000   32.000000  127.250000   36.600000   \n",
       "max     17.000000  199.000000  122.000000   99.000000  846.000000   67.100000   \n",
       "\n",
       "                6           7           8  \n",
       "count  768.000000  768.000000  768.000000  \n",
       "mean     0.471876   33.240885    0.348958  \n",
       "std      0.331329   11.760232    0.476951  \n",
       "min      0.078000   21.000000    0.000000  \n",
       "25%      0.243750   24.000000    0.000000  \n",
       "50%      0.372500   29.000000    0.000000  \n",
       "75%      0.626250   41.000000    1.000000  \n",
       "max      2.420000   81.000000    1.000000  "
      ]
     },
     "execution_count": 93,
     "metadata": {},
     "output_type": "execute_result"
    }
   ],
   "source": [
    "dataset.describe()"
   ]
  },
  {
   "cell_type": "code",
   "execution_count": 94,
   "metadata": {},
   "outputs": [],
   "source": [
    "num_missing = (dataset[[1,2,3,4,5]] == 0).sum()"
   ]
  },
  {
   "cell_type": "code",
   "execution_count": 95,
   "metadata": {},
   "outputs": [
    {
     "data": {
      "text/plain": [
       "1      5\n",
       "2     35\n",
       "3    227\n",
       "4    374\n",
       "5     11\n",
       "dtype: int64"
      ]
     },
     "execution_count": 95,
     "metadata": {},
     "output_type": "execute_result"
    }
   ],
   "source": [
    "num_missing"
   ]
  },
  {
   "cell_type": "code",
   "execution_count": 97,
   "metadata": {},
   "outputs": [
    {
     "data": {
      "text/plain": [
       "0      0\n",
       "1      5\n",
       "2     35\n",
       "3    227\n",
       "4    374\n",
       "5     11\n",
       "6      0\n",
       "7      0\n",
       "8      0\n",
       "dtype: int64"
      ]
     },
     "execution_count": 97,
     "metadata": {},
     "output_type": "execute_result"
    }
   ],
   "source": [
    "dataset[[1,2,3,4,5]] = dataset[[1,2,3,4,5]].replace(0, np.nan)\n",
    "dataset.isnull().sum()"
   ]
  },
  {
   "cell_type": "code",
   "execution_count": 99,
   "metadata": {},
   "outputs": [
    {
     "data": {
      "text/html": [
       "<div>\n",
       "<style scoped>\n",
       "    .dataframe tbody tr th:only-of-type {\n",
       "        vertical-align: middle;\n",
       "    }\n",
       "\n",
       "    .dataframe tbody tr th {\n",
       "        vertical-align: top;\n",
       "    }\n",
       "\n",
       "    .dataframe thead th {\n",
       "        text-align: right;\n",
       "    }\n",
       "</style>\n",
       "<table border=\"1\" class=\"dataframe\">\n",
       "  <thead>\n",
       "    <tr style=\"text-align: right;\">\n",
       "      <th></th>\n",
       "      <th>0</th>\n",
       "      <th>1</th>\n",
       "      <th>2</th>\n",
       "      <th>3</th>\n",
       "      <th>4</th>\n",
       "      <th>5</th>\n",
       "      <th>6</th>\n",
       "      <th>7</th>\n",
       "      <th>8</th>\n",
       "    </tr>\n",
       "  </thead>\n",
       "  <tbody>\n",
       "    <tr>\n",
       "      <th>0</th>\n",
       "      <td>6</td>\n",
       "      <td>148.0</td>\n",
       "      <td>72.0</td>\n",
       "      <td>35.0</td>\n",
       "      <td>NaN</td>\n",
       "      <td>33.6</td>\n",
       "      <td>0.627</td>\n",
       "      <td>50</td>\n",
       "      <td>1</td>\n",
       "    </tr>\n",
       "    <tr>\n",
       "      <th>1</th>\n",
       "      <td>1</td>\n",
       "      <td>85.0</td>\n",
       "      <td>66.0</td>\n",
       "      <td>29.0</td>\n",
       "      <td>NaN</td>\n",
       "      <td>26.6</td>\n",
       "      <td>0.351</td>\n",
       "      <td>31</td>\n",
       "      <td>0</td>\n",
       "    </tr>\n",
       "    <tr>\n",
       "      <th>2</th>\n",
       "      <td>8</td>\n",
       "      <td>183.0</td>\n",
       "      <td>64.0</td>\n",
       "      <td>NaN</td>\n",
       "      <td>NaN</td>\n",
       "      <td>23.3</td>\n",
       "      <td>0.672</td>\n",
       "      <td>32</td>\n",
       "      <td>1</td>\n",
       "    </tr>\n",
       "    <tr>\n",
       "      <th>3</th>\n",
       "      <td>1</td>\n",
       "      <td>89.0</td>\n",
       "      <td>66.0</td>\n",
       "      <td>23.0</td>\n",
       "      <td>94.0</td>\n",
       "      <td>28.1</td>\n",
       "      <td>0.167</td>\n",
       "      <td>21</td>\n",
       "      <td>0</td>\n",
       "    </tr>\n",
       "    <tr>\n",
       "      <th>4</th>\n",
       "      <td>0</td>\n",
       "      <td>137.0</td>\n",
       "      <td>40.0</td>\n",
       "      <td>35.0</td>\n",
       "      <td>168.0</td>\n",
       "      <td>43.1</td>\n",
       "      <td>2.288</td>\n",
       "      <td>33</td>\n",
       "      <td>1</td>\n",
       "    </tr>\n",
       "  </tbody>\n",
       "</table>\n",
       "</div>"
      ],
      "text/plain": [
       "   0      1     2     3      4     5      6   7  8\n",
       "0  6  148.0  72.0  35.0    NaN  33.6  0.627  50  1\n",
       "1  1   85.0  66.0  29.0    NaN  26.6  0.351  31  0\n",
       "2  8  183.0  64.0   NaN    NaN  23.3  0.672  32  1\n",
       "3  1   89.0  66.0  23.0   94.0  28.1  0.167  21  0\n",
       "4  0  137.0  40.0  35.0  168.0  43.1  2.288  33  1"
      ]
     },
     "execution_count": 99,
     "metadata": {},
     "output_type": "execute_result"
    }
   ],
   "source": [
    "dataset.head()"
   ]
  },
  {
   "cell_type": "markdown",
   "metadata": {},
   "source": [
    "### Remove rows"
   ]
  },
  {
   "cell_type": "code",
   "execution_count": 100,
   "metadata": {},
   "outputs": [
    {
     "name": "stdout",
     "output_type": "stream",
     "text": [
      "(768, 9)\n",
      "(392, 9)\n"
     ]
    }
   ],
   "source": [
    "print(dataset.shape)\n",
    "dataset.dropna(inplace=True)\n",
    "print(dataset.shape)"
   ]
  },
  {
   "cell_type": "markdown",
   "metadata": {},
   "source": [
    "### Replace missing value"
   ]
  },
  {
   "cell_type": "markdown",
   "metadata": {},
   "source": [
    "Fill missing with mean"
   ]
  },
  {
   "cell_type": "code",
   "execution_count": 103,
   "metadata": {},
   "outputs": [],
   "source": [
    "from sklearn.impute import SimpleImputer"
   ]
  },
  {
   "cell_type": "code",
   "execution_count": 108,
   "metadata": {},
   "outputs": [
    {
     "name": "stdout",
     "output_type": "stream",
     "text": [
      "Missing: 0\n"
     ]
    }
   ],
   "source": [
    "dataset = pd.read_csv('data/pima-indians-diabetes.csv', header=None)\n",
    "dataset[[1,2,3,4,5]] = dataset[[1,2,3,4,5]].replace(0, np.nan)\n",
    "values = dataset.values\n",
    "imputer = SimpleImputer(missing_values=np.nan, strategy='mean')\n",
    "transformed_values = imputer.fit_transform(values)\n",
    "print(f'Missing: {np.isnan(transformed_values).sum()}' )"
   ]
  },
  {
   "cell_type": "code",
   "execution_count": 111,
   "metadata": {},
   "outputs": [
    {
     "data": {
      "text/html": [
       "<div>\n",
       "<style scoped>\n",
       "    .dataframe tbody tr th:only-of-type {\n",
       "        vertical-align: middle;\n",
       "    }\n",
       "\n",
       "    .dataframe tbody tr th {\n",
       "        vertical-align: top;\n",
       "    }\n",
       "\n",
       "    .dataframe thead th {\n",
       "        text-align: right;\n",
       "    }\n",
       "</style>\n",
       "<table border=\"1\" class=\"dataframe\">\n",
       "  <thead>\n",
       "    <tr style=\"text-align: right;\">\n",
       "      <th></th>\n",
       "      <th>0</th>\n",
       "      <th>1</th>\n",
       "      <th>2</th>\n",
       "      <th>3</th>\n",
       "      <th>4</th>\n",
       "      <th>5</th>\n",
       "      <th>6</th>\n",
       "      <th>7</th>\n",
       "      <th>8</th>\n",
       "    </tr>\n",
       "  </thead>\n",
       "  <tbody>\n",
       "    <tr>\n",
       "      <th>0</th>\n",
       "      <td>6</td>\n",
       "      <td>148.0</td>\n",
       "      <td>72.0</td>\n",
       "      <td>35.0</td>\n",
       "      <td>NaN</td>\n",
       "      <td>33.6</td>\n",
       "      <td>0.627</td>\n",
       "      <td>50</td>\n",
       "      <td>1</td>\n",
       "    </tr>\n",
       "    <tr>\n",
       "      <th>1</th>\n",
       "      <td>1</td>\n",
       "      <td>85.0</td>\n",
       "      <td>66.0</td>\n",
       "      <td>29.0</td>\n",
       "      <td>NaN</td>\n",
       "      <td>26.6</td>\n",
       "      <td>0.351</td>\n",
       "      <td>31</td>\n",
       "      <td>0</td>\n",
       "    </tr>\n",
       "    <tr>\n",
       "      <th>2</th>\n",
       "      <td>8</td>\n",
       "      <td>183.0</td>\n",
       "      <td>64.0</td>\n",
       "      <td>NaN</td>\n",
       "      <td>NaN</td>\n",
       "      <td>23.3</td>\n",
       "      <td>0.672</td>\n",
       "      <td>32</td>\n",
       "      <td>1</td>\n",
       "    </tr>\n",
       "    <tr>\n",
       "      <th>3</th>\n",
       "      <td>1</td>\n",
       "      <td>89.0</td>\n",
       "      <td>66.0</td>\n",
       "      <td>23.0</td>\n",
       "      <td>94.0</td>\n",
       "      <td>28.1</td>\n",
       "      <td>0.167</td>\n",
       "      <td>21</td>\n",
       "      <td>0</td>\n",
       "    </tr>\n",
       "    <tr>\n",
       "      <th>4</th>\n",
       "      <td>0</td>\n",
       "      <td>137.0</td>\n",
       "      <td>40.0</td>\n",
       "      <td>35.0</td>\n",
       "      <td>168.0</td>\n",
       "      <td>43.1</td>\n",
       "      <td>2.288</td>\n",
       "      <td>33</td>\n",
       "      <td>1</td>\n",
       "    </tr>\n",
       "  </tbody>\n",
       "</table>\n",
       "</div>"
      ],
      "text/plain": [
       "   0      1     2     3      4     5      6   7  8\n",
       "0  6  148.0  72.0  35.0    NaN  33.6  0.627  50  1\n",
       "1  1   85.0  66.0  29.0    NaN  26.6  0.351  31  0\n",
       "2  8  183.0  64.0   NaN    NaN  23.3  0.672  32  1\n",
       "3  1   89.0  66.0  23.0   94.0  28.1  0.167  21  0\n",
       "4  0  137.0  40.0  35.0  168.0  43.1  2.288  33  1"
      ]
     },
     "execution_count": 111,
     "metadata": {},
     "output_type": "execute_result"
    }
   ],
   "source": [
    "dataset.head()"
   ]
  },
  {
   "cell_type": "code",
   "execution_count": 113,
   "metadata": {},
   "outputs": [
    {
     "data": {
      "text/plain": [
       "array([[  6.   , 148.   ,  72.   , ...,   0.627,  50.   ,   1.   ],\n",
       "       [  1.   ,  85.   ,  66.   , ...,   0.351,  31.   ,   0.   ],\n",
       "       [  8.   , 183.   ,  64.   , ...,   0.672,  32.   ,   1.   ],\n",
       "       ...,\n",
       "       [  5.   , 121.   ,  72.   , ...,   0.245,  30.   ,   0.   ],\n",
       "       [  1.   , 126.   ,  60.   , ...,   0.349,  47.   ,   1.   ],\n",
       "       [  1.   ,  93.   ,  70.   , ...,   0.315,  23.   ,   0.   ]])"
      ]
     },
     "execution_count": 113,
     "metadata": {},
     "output_type": "execute_result"
    }
   ],
   "source": [
    "transformed_values"
   ]
  },
  {
   "cell_type": "code",
   "execution_count": 114,
   "metadata": {},
   "outputs": [
    {
     "name": "stdout",
     "output_type": "stream",
     "text": [
      "Missing: 0\n"
     ]
    }
   ],
   "source": [
    "dataset = pd.read_csv('data/pima-indians-diabetes.csv', header=None)\n",
    "dataset[[1,2,3,4,5]] = dataset[[1,2,3,4,5]].replace(0, np.nan)\n",
    "values = dataset.values\n",
    "imputer = SimpleImputer(missing_values=np.nan, strategy='most_frequent')\n",
    "transformed_values = imputer.fit_transform(values)\n",
    "print(f'Missing: {np.isnan(transformed_values).sum()}')"
   ]
  },
  {
   "cell_type": "code",
   "execution_count": 115,
   "metadata": {},
   "outputs": [
    {
     "data": {
      "text/plain": [
       "array([[  6.   , 148.   ,  72.   , ...,   0.627,  50.   ,   1.   ],\n",
       "       [  1.   ,  85.   ,  66.   , ...,   0.351,  31.   ,   0.   ],\n",
       "       [  8.   , 183.   ,  64.   , ...,   0.672,  32.   ,   1.   ],\n",
       "       ...,\n",
       "       [  5.   , 121.   ,  72.   , ...,   0.245,  30.   ,   0.   ],\n",
       "       [  1.   , 126.   ,  60.   , ...,   0.349,  47.   ,   1.   ],\n",
       "       [  1.   ,  93.   ,  70.   , ...,   0.315,  23.   ,   0.   ]])"
      ]
     },
     "execution_count": 115,
     "metadata": {},
     "output_type": "execute_result"
    }
   ],
   "source": [
    "transformed_values"
   ]
  },
  {
   "cell_type": "markdown",
   "metadata": {},
   "source": [
    "## Class Imbalance -  SMOTE"
   ]
  },
  {
   "cell_type": "code",
   "execution_count": 118,
   "metadata": {},
   "outputs": [],
   "source": [
    "from collections import Counter\n",
    "from sklearn.datasets import make_classification\n",
    "from imblearn.over_sampling import SMOTE # doctest: +NORMALIZE_WHITESPACE"
   ]
  },
  {
   "cell_type": "code",
   "execution_count": 119,
   "metadata": {},
   "outputs": [],
   "source": [
    "X, y = make_classification(n_classes=2, class_sep=2,\n",
    "weights=[0.1, 0.9], n_informative=3, n_redundant=1, flip_y=0,\n",
    "n_features=20, n_clusters_per_class=1, n_samples=1000, random_state=10)"
   ]
  },
  {
   "cell_type": "code",
   "execution_count": 120,
   "metadata": {},
   "outputs": [
    {
     "name": "stdout",
     "output_type": "stream",
     "text": [
      "Original dataset shape Counter({1: 900, 0: 100})\n"
     ]
    }
   ],
   "source": [
    "print('Original dataset shape %s' % Counter(y))"
   ]
  },
  {
   "cell_type": "code",
   "execution_count": 121,
   "metadata": {},
   "outputs": [],
   "source": [
    "sm = SMOTE(random_state=42)"
   ]
  },
  {
   "cell_type": "code",
   "execution_count": 122,
   "metadata": {},
   "outputs": [],
   "source": [
    "X_res, y_res = sm.fit_resample(X, y)"
   ]
  },
  {
   "cell_type": "code",
   "execution_count": 123,
   "metadata": {},
   "outputs": [
    {
     "name": "stdout",
     "output_type": "stream",
     "text": [
      "Resampled dataset shape Counter({0: 900, 1: 900})\n"
     ]
    }
   ],
   "source": [
    "print('Resampled dataset shape %s' % Counter(y_res))"
   ]
  },
  {
   "cell_type": "code",
   "execution_count": null,
   "metadata": {},
   "outputs": [],
   "source": []
  }
 ],
 "metadata": {
  "kernelspec": {
   "display_name": "Python (IGDTU_summer)",
   "language": "python",
   "name": "igdtu_summer"
  },
  "language_info": {
   "codemirror_mode": {
    "name": "ipython",
    "version": 3
   },
   "file_extension": ".py",
   "mimetype": "text/x-python",
   "name": "python",
   "nbconvert_exporter": "python",
   "pygments_lexer": "ipython3",
   "version": "3.8.3"
  }
 },
 "nbformat": 4,
 "nbformat_minor": 4
}
