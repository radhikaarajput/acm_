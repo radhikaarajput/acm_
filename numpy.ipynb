{
 "cells": [
  {
   "cell_type": "code",
   "execution_count": 1,
   "metadata": {},
   "outputs": [],
   "source": [
    "#NumPy stands for Numerical Python\n",
    "#NumPy is a python library used for working with arrays.\n",
    "#It also has functions for working in domain of linear algebra, fourier transform, and matrices.\n",
    "\n",
    "#NumPy aims to provide an array object that is up to 50x faster that traditional Python lists.\n",
    "\n",
    "#The array object in NumPy is called ndarray, it provides a lot of supporting functions that make working with ndarray very easy.\n",
    "\n",
    "\n",
    "import numpy as np"
   ]
  },
  {
   "cell_type": "code",
   "execution_count": 2,
   "metadata": {},
   "outputs": [
    {
     "name": "stdout",
     "output_type": "stream",
     "text": [
      "[1 2 3 4 5 6 7 8]\n"
     ]
    }
   ],
   "source": [
    "#NumPy is used to work with arrays. The array object in NumPy is called ndarray.\n",
    "#We can create a NumPy ndarray object by using the array() function.\n",
    "\n",
    "arr=np.array([1,2,3,4,5,6,7,8])     #a 1-D array\n",
    "print(arr)"
   ]
  },
  {
   "cell_type": "code",
   "execution_count": 5,
   "metadata": {},
   "outputs": [
    {
     "name": "stdout",
     "output_type": "stream",
     "text": [
      "[[[[[1 2 3 4]]]]]\n"
     ]
    }
   ],
   "source": [
    "#5 dimensions and verify that it has 5 dimensions:\n",
    "a1= np.array([1,2,3,4], ndmin=5)\n",
    "print(a1)"
   ]
  },
  {
   "cell_type": "code",
   "execution_count": null,
   "metadata": {},
   "outputs": [],
   "source": []
  },
  {
   "cell_type": "code",
   "execution_count": null,
   "metadata": {},
   "outputs": [],
   "source": []
  },
  {
   "cell_type": "code",
   "execution_count": 3,
   "metadata": {},
   "outputs": [
    {
     "name": "stdout",
     "output_type": "stream",
     "text": [
      "<class 'numpy.ndarray'>\n"
     ]
    }
   ],
   "source": [
    "print(type(arr))"
   ]
  },
  {
   "cell_type": "code",
   "execution_count": 6,
   "metadata": {},
   "outputs": [
    {
     "name": "stdout",
     "output_type": "stream",
     "text": [
      "12\n",
      "0\n"
     ]
    }
   ],
   "source": [
    "#0-D arrays, or Scalars, are the elements in an array. Each value in an array is a 0-D array.\n",
    "\n",
    "ar= np.array(12)  #0-D array with value 12\n",
    "print(ar)\n",
    "print(ar.ndim)"
   ]
  },
  {
   "cell_type": "code",
   "execution_count": 10,
   "metadata": {},
   "outputs": [
    {
     "name": "stdout",
     "output_type": "stream",
     "text": [
      "10\n",
      "9\n"
     ]
    }
   ],
   "source": [
    "arr = np.array([[1,2,3,4,5], [6,7,8,9,10]])\n",
    "#Access the 5th element on 2nd dim:\n",
    "print(arr[1,4])\n",
    "print(arr[1,-2])"
   ]
  },
  {
   "cell_type": "code",
   "execution_count": 19,
   "metadata": {},
   "outputs": [
    {
     "name": "stdout",
     "output_type": "stream",
     "text": [
      "[2 3 4 5]\n",
      "[6 7]\n",
      "[2 4]\n",
      "[2 5]\n",
      "[8 9]\n",
      "[8]\n",
      "int32\n"
     ]
    }
   ],
   "source": [
    "#Slicing in python means taking elements from one given index to another given index.\n",
    "#We pass slice instead of index like this: [start:end].\n",
    "#We can also define the step, like this: [start:end:step].\n",
    "arr=np.array([1,2,3,4,5,6,7,8])\n",
    "print(arr[1:5])     #Slice elements from index 1 to index 5----result includes the start index, but excludes the end index\n",
    "print(arr[-3:-1])\n",
    "\n",
    "\n",
    "#the step value to determine the step of the slicing\n",
    "print(arr[1:5:2])\n",
    "print(arr[1:7:3])\n",
    "\n",
    "\n",
    "#Slicing 2-D Arrays\n",
    "arr = np.array([[1,2,3,4,5], [6,7,8,9,10]])\n",
    "print(arr[1,2:4])\n",
    "print(arr[1:3,2])\n",
    "\n",
    "\n",
    "print(arr.dtype)"
   ]
  },
  {
   "cell_type": "code",
   "execution_count": null,
   "metadata": {},
   "outputs": [],
   "source": []
  }
 ],
 "metadata": {
  "kernelspec": {
   "display_name": "Python 3",
   "language": "python",
   "name": "python3"
  },
  "language_info": {
   "codemirror_mode": {
    "name": "ipython",
    "version": 3
   },
   "file_extension": ".py",
   "mimetype": "text/x-python",
   "name": "python",
   "nbconvert_exporter": "python",
   "pygments_lexer": "ipython3",
   "version": "3.6.10"
  }
 },
 "nbformat": 4,
 "nbformat_minor": 4
}
